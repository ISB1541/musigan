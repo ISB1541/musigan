{
 "cells": [
  {
   "cell_type": "markdown",
   "metadata": {},
   "source": [
    "# Musigan \n",
    "\n",
    "This notebook describes research and approaches for the `GAN` implementation. The general idea\n",
    "is to `generate` a `10 sec` wav file using random data. Then `discriminate` using a simple logistic regression \n",
    "that will be train on `10 sec` samples of free popular songs on `soundcloud`. The `discriminator` will use the \n",
    "features of the audio rather then the raw audio. This way we should have raw audio and not worry about converting \n",
    "the audio features back to audio. \n",
    "\n",
    "\n",
    "\n",
    "\n",
    "\n"
   ]
  },
  {
   "cell_type": "markdown",
   "metadata": {},
   "source": [
    "## Generative Adversial Networks\n",
    "### Resources\n",
    "1. http://blog.aylien.com/introduction-generative-adversarial-networks-code-tensorflow/\n",
    "2. https://arxiv.org/abs/1701.00160\n",
    "3. https://channel9.msdn.com/Events/Neural-Information-Processing-Systems-Conference/Neural-Information-Processing-Systems-Conference-NIPS-2016/Generative-Adversarial-Networks\n",
    "\n",
    "### Repositories \n",
    "1. https://github.com/goodfeli/adversarial\n"
   ]
  },
  {
   "cell_type": "markdown",
   "metadata": {},
   "source": [
    "## Feature Extraction - Audio"
   ]
  },
  {
   "cell_type": "markdown",
   "metadata": {},
   "source": [
    "1. http://yaafe.sourceforge.net\n",
    "2. http://journals.plos.org/plosone/article?id=10.1371/journal.pone.0144610\n",
    "3. https://github.com/tyiannak/pyAudioAnalysis"
   ]
  },
  {
   "cell_type": "markdown",
   "metadata": {},
   "source": [
    "## Generate Audio Samples\n",
    "\n",
    "1. WAV: https://github.com/sole/snippets/blob/master/audio/generate_noise_test_python/script.py\n",
    "2. MIDI: https://github.com/smitec/random-midi"
   ]
  },
  {
   "cell_type": "markdown",
   "metadata": {},
   "source": [
    "## \"Good\" Music to train Discriminator\n",
    "\n",
    "1. https://developers.soundcloud.com/docs/api/guide#playing [Find popular music from google]\n",
    "2. https://labrosa.ee.columbia.edu/millionsong/"
   ]
  }
 ],
 "metadata": {
  "kernelspec": {
   "display_name": "Python 3",
   "language": "python",
   "name": "python3"
  },
  "language_info": {
   "codemirror_mode": {
    "name": "ipython",
    "version": 3
   },
   "file_extension": ".py",
   "mimetype": "text/x-python",
   "name": "python",
   "nbconvert_exporter": "python",
   "pygments_lexer": "ipython3",
   "version": "3.5.3"
  }
 },
 "nbformat": 4,
 "nbformat_minor": 2
}
